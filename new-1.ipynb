{
 "cells": [
  {
   "cell_type": "code",
   "execution_count": null,
   "metadata": {},
   "outputs": [],
   "source": [
    "begin\n",
    "    using Plots\n",
    "    using Random:seed!\n",
    "    using LaTeXStrings\n",
    "end"
   ]
  },
  {
   "cell_type": "code",
   "execution_count": null,
   "metadata": {},
   "outputs": [],
   "source": [
    "function Δ_n(μ_n::Vector{Float64})\n",
    "\n",
    "    n = length(μ_n)\n",
    "    deltas = Vector{Float64}(undef, n)\n",
    "\n",
    "    delta_p = 1\n",
    "    delta_c = 1\n",
    "\n",
    "    mu_c = copy(μ_n)\n",
    "    mu_p = fill!(similar(mu_c), 0)\n",
    "\n",
    "    for jj in 1:n\n",
    "\n",
    "        mu_n = mu_c ./ delta_c .- mu_p ./ delta_p\n",
    "\n",
    "        deltas[jj] = mu_n[jj]\n",
    "\n",
    "        mu_p = vcat(1, copy(mu_c)[1:end-1])\n",
    "        mu_c = copy(mu_n)\n",
    "\n",
    "        delta_p = delta_c\n",
    "        delta_c = deltas[jj]\n",
    "\n",
    "    end\n",
    "\n",
    "    return deltas \n",
    "end"
   ]
  },
  {
   "cell_type": "code",
   "execution_count": null,
   "metadata": {},
   "outputs": [],
   "source": [
    "let n = 10\n",
    "\n",
    "    seed!(12345)\n",
    "    mus = abs.(randn(n))\n",
    "    print(\"random μ vector:\", mus)\n",
    "    Δ_n(mus)\n",
    "end"
   ]
  },
  {
   "cell_type": "code",
   "execution_count": null,
   "metadata": {},
   "outputs": [],
   "source": [
    "let n = 10\n",
    "\n",
    "    seed!(12345)\n",
    "    mus = abs.(randn(n))\n",
    "\n",
    "    d = Δ_n(mus)\n",
    "    d[2] ≈ -mus[1] + mus[2]/mus[1]\n",
    " \n",
    "end"
   ]
  },
  {
   "cell_type": "code",
   "execution_count": null,
   "metadata": {},
   "outputs": [],
   "source": [
    "let n = 10\n",
    "\n",
    "    seed!(12345)\n",
    "    mus = abs.(randn(n))\n",
    "    print(mus)\n",
    "    d = Δ_n(mus)\n",
    "\n",
    "    d[3] ≈ mus[2] * (mus[2]/mus[1] - mus[3]/mus[2]) / (mus[1] * (mus[1] - mus[2]/mus[1]))\n",
    "\n",
    "end"
   ]
  },
  {
   "attachments": {},
   "cell_type": "markdown",
   "metadata": {},
   "source": [
    "# Let us define our own vector μ. "
   ]
  },
  {
   "cell_type": "code",
   "execution_count": null,
   "metadata": {},
   "outputs": [],
   "source": [
    "mus = [1.4680175595540228, 0.41324194560452254, 0.8393366221167892, 0.4133421496068428, 0.9869422400282055, 1.503935416515616, 0.6164765867976383, 1.4079885254089328, 0.6947649339520396, 0.9661461591092642]\n",
    "mus = Vector{Float64}(vec(mus))\n",
    "Δ_n(mus)"
   ]
  },
  {
   "cell_type": "code",
   "execution_count": null,
   "metadata": {},
   "outputs": [],
   "source": [
    "mus = [-1, 1.1, 9, 1, -31, 1, 129, 1, -511, 1, 2049, 1, -8191, 1, 32769, 1, -131071, 1, 524289, 1, -2097151, 1, 8388609, 1, -33554431, 1, 134217729, 1, -536870911, 1, 2147483649, 1, -8589934591, 1, 34359738369, 1, -137438953471, 1, 549755813889, 1, -2199023255551, 1, 8796093022209, 1, -35184372088831, 1, 140737488355329, 1, -562949953421311, 1, 2251799813685249, 1, -9007199254740991, 1, 36028797018963969, 1, -144115188075855871, 1, 576460752303423489, 1, -2305843009213693951, 1, 9223372036854775809, 1, -36893488147419103231, 1, 147573952589676412929, 1, -590295810358705651711, 1, 2361183241434822606849, 1, -9444732965739290427391, 1, 37778931862957161709569, 1, -151115727451828646838271, 1, 604462909807314587353089, 1, -2417851639229258349412351, 1, 9671406556917033397649409, 1, -38685626227668133590597631, 1, 154742504910672534362390529, 1, -618970019642690137449562111, 1, 2475880078570760549798248449, 1, -9903520314283042199192993791, 1, 39614081257132168796771975169, 1, -158456325028528675187087900671, 1, 633825300114114700748351602689, 1]\n",
    "mus = Vector{Float64}(vec(mus))\n",
    "Δ_n(mus)"
   ]
  }
 ],
 "metadata": {
  "kernelspec": {
   "display_name": "Python 3",
   "language": "python",
   "name": "python3"
  },
  "language_info": {
   "file_extension": ".jl",
   "mimetype": "application/julia",
   "name": "python",
   "version": "3.10.10"
  },
  "orig_nbformat": 4
 },
 "nbformat": 4,
 "nbformat_minor": 2
}
