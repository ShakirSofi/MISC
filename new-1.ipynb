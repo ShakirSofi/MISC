{
 "cells": [
  {
   "cell_type": "code",
   "execution_count": 3,
   "metadata": {},
   "outputs": [],
   "source": [
    "begin\n",
    "    using Plots\n",
    "    using Random:seed!\n",
    "    using LaTeXStrings\n",
    "end"
   ]
  },
  {
   "cell_type": "code",
   "execution_count": 4,
   "metadata": {},
   "outputs": [
    {
     "data": {
      "text/plain": [
       "Δ_n (generic function with 1 method)"
      ]
     },
     "metadata": {},
     "output_type": "display_data"
    }
   ],
   "source": [
    "function Δ_n(μ_n::Vector{Float64})\n",
    "\n",
    "    n = length(μ_n)\n",
    "    deltas = Vector{Float64}(undef, n)\n",
    "\n",
    "    delta_p = 1\n",
    "    delta_c = 1\n",
    "\n",
    "    mu_c = copy(μ_n)\n",
    "    mu_p = fill!(similar(mu_c), 0)\n",
    "\n",
    "    for jj in 1:n\n",
    "\n",
    "        mu_n = mu_c ./ delta_c .- mu_p ./ delta_p\n",
    "\n",
    "        deltas[jj] = mu_n[jj]\n",
    "\n",
    "        mu_p = vcat(1, copy(mu_c)[1:end-1])\n",
    "        mu_c = copy(mu_n)\n",
    "\n",
    "        delta_p = delta_c\n",
    "        delta_c = deltas[jj]\n",
    "\n",
    "    end\n",
    "\n",
    "    return deltas \n",
    "end"
   ]
  },
  {
   "cell_type": "code",
   "execution_count": 5,
   "metadata": {},
   "outputs": [
    {
     "name": "stdout",
     "output_type": "stream",
     "text": [
      "random μ vector:[1.4680175595540228, 0.41324194560452254, 0.8393366221167892, 0.4133421496068428, 0.9869422400282055, 1.503935416515616, 0.6164765867976383, 1.4079885254089328, 0.6947649339520396, 0.9661461591092642]"
     ]
    },
    {
     "data": {
      "text/plain": [
       "10-element Vector{Float64}:\n",
       "   1.4680175595540228\n",
       "  -1.1865209637435044\n",
       "  -0.415085813717851\n",
       "   0.3784982020021118\n",
       "   1.6944003170608106\n",
       "   0.33462591765701477\n",
       " -18.98547811197248\n",
       "  16.63758599476733\n",
       "   0.044167036255463366\n",
       "   0.11564521909572932"
      ]
     },
     "metadata": {},
     "output_type": "display_data"
    }
   ],
   "source": [
    "let n = 10\n",
    "\n",
    "    seed!(12345)\n",
    "    mus = abs.(randn(n))\n",
    "    print(\"random μ vector:\", mus)\n",
    "    Δ_n(mus)\n",
    "end"
   ]
  },
  {
   "cell_type": "code",
   "execution_count": 6,
   "metadata": {},
   "outputs": [
    {
     "data": {
      "text/plain": [
       "true"
      ]
     },
     "metadata": {},
     "output_type": "display_data"
    }
   ],
   "source": [
    "let n = 10\n",
    "\n",
    "    seed!(12345)\n",
    "    mus = abs.(randn(n))\n",
    "\n",
    "    d = Δ_n(mus)\n",
    "    d[2] ≈ -mus[1] + mus[2]/mus[1]\n",
    " \n",
    "end"
   ]
  },
  {
   "cell_type": "code",
   "execution_count": 7,
   "metadata": {},
   "outputs": [
    {
     "name": "stdout",
     "output_type": "stream",
     "text": [
      "[1.4680175595540228, 0.41324194560452254, 0.8393366221167892, 0.4133421496068428, 0.9869422400282055, 1.503935416515616, 0.6164765867976383, 1.4079885254089328, 0.6947649339520396, 0.9661461591092642]"
     ]
    },
    {
     "data": {
      "text/plain": [
       "true"
      ]
     },
     "metadata": {},
     "output_type": "display_data"
    }
   ],
   "source": [
    "let n = 10\n",
    "\n",
    "    seed!(12345)\n",
    "    mus = abs.(randn(n))\n",
    "    print(mus)\n",
    "    d = Δ_n(mus)\n",
    "\n",
    "    d[3] ≈ mus[2] * (mus[2]/mus[1] - mus[3]/mus[2]) / (mus[1] * (mus[1] - mus[2]/mus[1]))\n",
    "\n",
    "end"
   ]
  },
  {
   "attachments": {},
   "cell_type": "markdown",
   "metadata": {},
   "source": [
    "# Let us define our own vector μ. "
   ]
  },
  {
   "cell_type": "code",
   "execution_count": 8,
   "metadata": {},
   "outputs": [
    {
     "data": {
      "text/plain": [
       "10-element Vector{Float64}:\n",
       "   1.4680175595540228\n",
       "  -1.1865209637435044\n",
       "  -0.415085813717851\n",
       "   0.3784982020021118\n",
       "   1.6944003170608106\n",
       "   0.33462591765701477\n",
       " -18.98547811197248\n",
       "  16.63758599476733\n",
       "   0.044167036255463366\n",
       "   0.11564521909572932"
      ]
     },
     "metadata": {},
     "output_type": "display_data"
    }
   ],
   "source": [
    "mus = [1.4680175595540228, 0.41324194560452254, 0.8393366221167892, 0.4133421496068428, 0.9869422400282055, 1.503935416515616, 0.6164765867976383, 1.4079885254089328, 0.6947649339520396, 0.9661461591092642]\n",
    "mus = Vector{Float64}(vec(mus))\n",
    "Δ_n(mus)"
   ]
  },
  {
   "cell_type": "code",
   "execution_count": 17,
   "metadata": {},
   "outputs": [
    {
     "data": {
      "text/plain": [
       "100-element Vector{Float64}:\n",
       "  -1.0\n",
       "  -0.10000000000000009\n",
       " 102.0999999999999\n",
       " -99.93241919686572\n",
       "  -0.03759971895388414\n",
       "   0.06274530658789601\n",
       "  -1.400017484859956\n",
       "   0.7933517001524463\n",
       "  -0.2901541733119113\n",
       "   0.8040935672582489\n",
       "   ⋮\n",
       "  -0.2831892325485219\n",
       "  -5.662284116007905\n",
       "   0.0006876293904334307\n",
       "   2.063850722789708\n",
       "   1.058117766127444\n",
       "  -6.212863526178686\n",
       "   6.201620120553903\n",
       "  -0.8356726139019988\n",
       "  -2.673217867136172"
      ]
     },
     "metadata": {},
     "output_type": "display_data"
    }
   ],
   "source": [
    "mus = [-1, 1.1, 9, 1, -31, 1, 129, 1, -511, 1, 2049, 1, -8191, 1, 32769, 1, -131071, 1, 524289, 1, -2097151, 1, 8388609, 1, -33554431, 1, 134217729, 1, -536870911, 1, 2147483649, 1, -8589934591, 1, 34359738369, 1, -137438953471, 1, 549755813889, 1, -2199023255551, 1, 8796093022209, 1, -35184372088831, 1, 140737488355329, 1, -562949953421311, 1, 2251799813685249, 1, -9007199254740991, 1, 36028797018963969, 1, -144115188075855871, 1, 576460752303423489, 1, -2305843009213693951, 1, 9223372036854775809, 1, -36893488147419103231, 1, 147573952589676412929, 1, -590295810358705651711, 1, 2361183241434822606849, 1, -9444732965739290427391, 1, 37778931862957161709569, 1, -151115727451828646838271, 1, 604462909807314587353089, 1, -2417851639229258349412351, 1, 9671406556917033397649409, 1, -38685626227668133590597631, 1, 154742504910672534362390529, 1, -618970019642690137449562111, 1, 2475880078570760549798248449, 1, -9903520314283042199192993791, 1, 39614081257132168796771975169, 1, -158456325028528675187087900671, 1, 633825300114114700748351602689, 1]\n",
    "mus = Vector{Float64}(vec(mus))\n",
    "Δ_n(mus)"
   ]
  }
 ],
 "metadata": {
  "kernelspec": {
   "display_name": "Julia 1.8.5",
   "language": "julia",
   "name": "julia-1.8"
  },
  "language_info": {
   "file_extension": ".jl",
   "mimetype": "application/julia",
   "name": "julia",
   "version": "1.8.5"
  },
  "orig_nbformat": 4
 },
 "nbformat": 4,
 "nbformat_minor": 2
}
